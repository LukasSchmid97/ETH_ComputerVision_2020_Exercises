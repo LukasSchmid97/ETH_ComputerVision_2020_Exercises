{
  "cells": [
    {
      "metadata": {
        "collapsed": true
      },
      "cell_type": "markdown",
      "source": "# Week 4: Fourier transform: filtering and sampling\n\nThe exercise of this week is about Fourier Transform, image filtering and sampling. First load the following libraries that will be necessary."
    },
    {
      "metadata": {
        "trusted": true
      },
      "cell_type": "code",
      "source": "!pip install scipy\n!pip install scikit-image",
      "execution_count": 1,
      "outputs": [
        {
          "output_type": "stream",
          "text": "Requirement already satisfied: scipy in /home/nbuser/anaconda3_501/lib/python3.6/site-packages (1.1.0)\n\u001b[33mWARNING: You are using pip version 19.2.2, however version 19.2.3 is available.\nYou should consider upgrading via the 'pip install --upgrade pip' command.\u001b[0m\nRequirement already satisfied: scikit-image in /home/nbuser/anaconda3_501/lib/python3.6/site-packages (0.15.0)\nRequirement already satisfied: networkx>=2.0 in /home/nbuser/anaconda3_501/lib/python3.6/site-packages (from scikit-image) (2.2)\nRequirement already satisfied: imageio>=2.0.1 in /home/nbuser/anaconda3_501/lib/python3.6/site-packages (from scikit-image) (2.4.1)\nRequirement already satisfied: PyWavelets>=0.4.0 in /home/nbuser/anaconda3_501/lib/python3.6/site-packages (from scikit-image) (1.0.1)\nRequirement already satisfied: matplotlib!=3.0.0,>=2.0.0 in /home/nbuser/anaconda3_501/lib/python3.6/site-packages (from scikit-image) (2.1.1)\nRequirement already satisfied: pillow>=4.3.0 in /home/nbuser/anaconda3_501/lib/python3.6/site-packages (from scikit-image) (5.3.0)\nRequirement already satisfied: scipy>=0.17.0 in /home/nbuser/anaconda3_501/lib/python3.6/site-packages (from scikit-image) (1.1.0)\nRequirement already satisfied: decorator>=4.3.0 in /home/nbuser/anaconda3_501/lib/python3.6/site-packages (from networkx>=2.0->scikit-image) (4.3.0)\nRequirement already satisfied: numpy>=1.9.1 in /home/nbuser/anaconda3_501/lib/python3.6/site-packages (from PyWavelets>=0.4.0->scikit-image) (1.16.2)\nRequirement already satisfied: six>=1.10 in /home/nbuser/anaconda3_501/lib/python3.6/site-packages (from matplotlib!=3.0.0,>=2.0.0->scikit-image) (1.11.0)\nRequirement already satisfied: pytz in /home/nbuser/anaconda3_501/lib/python3.6/site-packages (from matplotlib!=3.0.0,>=2.0.0->scikit-image) (2018.7)\nRequirement already satisfied: cycler>=0.10 in /home/nbuser/anaconda3_501/lib/python3.6/site-packages (from matplotlib!=3.0.0,>=2.0.0->scikit-image) (0.10.0)\nRequirement already satisfied: python-dateutil>=2.0 in /home/nbuser/anaconda3_501/lib/python3.6/site-packages (from matplotlib!=3.0.0,>=2.0.0->scikit-image) (2.8.0)\nRequirement already satisfied: pyparsing!=2.0.4,!=2.1.2,!=2.1.6,>=2.0.1 in /home/nbuser/anaconda3_501/lib/python3.6/site-packages (from matplotlib!=3.0.0,>=2.0.0->scikit-image) (2.3.0)\n\u001b[33mWARNING: You are using pip version 19.2.2, however version 19.2.3 is available.\nYou should consider upgrading via the 'pip install --upgrade pip' command.\u001b[0m\n",
          "name": "stdout"
        }
      ]
    },
    {
      "metadata": {
        "trusted": true
      },
      "cell_type": "code",
      "source": "%matplotlib inline\n\nfrom time import time\nfrom skimage.io import imread\nfrom skimage.color import rgb2gray\nfrom scipy.ndimage import convolve\nfrom scipy.fftpack import fft2, ifft2\nfrom matplotlib.pyplot import imshow, show, figure\nimport numpy as np",
      "execution_count": 2,
      "outputs": []
    },
    {
      "metadata": {},
      "cell_type": "markdown",
      "source": "Load the two images wall.jpg and sidewalk.jpg."
    },
    {
      "metadata": {
        "trusted": true
      },
      "cell_type": "code",
      "source": "wall = np.array(imread('wall.jpg'), dtype=np.float) / 255.\nwall_gray = rgb2gray(wall)\nimshow(wall)",
      "execution_count": null,
      "outputs": []
    },
    {
      "metadata": {
        "trusted": true
      },
      "cell_type": "code",
      "source": "side = np.array(imread('sidewalk.jpg'), dtype=np.float) / 255.\nside_gray = rgb2gray(side)\nimshow(side)",
      "execution_count": null,
      "outputs": []
    },
    {
      "metadata": {},
      "cell_type": "markdown",
      "source": "Preliminary question: which of the two images as the most low pass content? Which one has the most high pass content?"
    },
    {
      "metadata": {},
      "cell_type": "markdown",
      "source": "Answer:"
    },
    {
      "metadata": {},
      "cell_type": "markdown",
      "source": "The following functions will be useful in the course of this tutorial: *fft2*, *ifft2* from scipy and the following function:"
    },
    {
      "metadata": {
        "trusted": true
      },
      "cell_type": "code",
      "source": "def gaussian_filter(shape, sigma):\n    \"\"\"\n    Returns a 2D gaussian filter specified by its shape and standard deviation.\n    \"\"\"\n    m, n = [(ss - 1.) / 2. for ss in shape]\n    y, x = np.ogrid[-m:m+1, -n:n+1]\n    h = np.exp(-(x * x + y * y) / (2. * sigma * sigma))\n    h[h < np.finfo(h.dtype).eps * h.max()] = 0\n    sumh = h.sum()\n    if sumh != 0:\n        h /= sumh\n    return h",
      "execution_count": null,
      "outputs": []
    },
    {
      "metadata": {},
      "cell_type": "markdown",
      "source": "## Part A: Filtering\n\nCreate three Gaussian filters:\n- one 5x5 Gaussian low pass filter with standard deviation 1\n- one 15x15 Gaussian high pass filter with standard deviation 3.5. Hint: the high pass content of an image can be extracted by subtracting the low pass filtered image from the original image. Hence, you can get a high pass filter kernel from a low pass one by subtracting the low pass filter kernel from a unit impulse filter.\n- one band pass filter. To do this, create first a 15x15 Gaussian filter with standard deviation 1 and then convolve this low pass filter with the previous high pass filter to create the band pass filter."
    },
    {
      "metadata": {
        "trusted": true
      },
      "cell_type": "code",
      "source": "# Low pass filter\n# Enter your code here\n\n# High pass filter\n# Enter your code here\n\n# Band pass filter\n# Enter your code here",
      "execution_count": null,
      "outputs": []
    },
    {
      "metadata": {},
      "cell_type": "markdown",
      "source": "Apply these three filters to the two sample grayscale images in spatial domain first by convolving the image with the kernel, and in frequency domain secondly by taking the Fourier tranform of both the image and the filter kernel and multiplying them. Compare the runtimes of spatial and frequency domain filtering, using the *time* function of python. Compare the filtering results of two images by visualizing the filtered images in both spatial and frequency domains. Check that your initial guess about the low/high pass content of the images is correct."
    },
    {
      "metadata": {},
      "cell_type": "markdown",
      "source": "### Filtering in spatial domain"
    },
    {
      "metadata": {
        "trusted": true
      },
      "cell_type": "code",
      "source": "print(\"Original image:\")\nimshow(wall_gray, cmap='gray')\nshow()\n\n# Enter your code here",
      "execution_count": null,
      "outputs": []
    },
    {
      "metadata": {
        "trusted": true
      },
      "cell_type": "code",
      "source": "print(\"Original image:\")\nimshow(side_gray, cmap='gray')\nshow()\n\n# Enter your code here",
      "execution_count": null,
      "outputs": []
    },
    {
      "metadata": {},
      "cell_type": "markdown",
      "source": "### Filtering in frequency domain"
    },
    {
      "metadata": {},
      "cell_type": "markdown",
      "source": "Note: the output of *ifft2* is a numpy array with complex values. You can use the command *.astype(float)* to convert it back to real numbers."
    },
    {
      "metadata": {
        "trusted": true
      },
      "cell_type": "code",
      "source": "print(\"Original image:\")\nimshow(wall_gray, cmap='gray')\nshow()\n\n# Enter your code here",
      "execution_count": null,
      "outputs": []
    },
    {
      "metadata": {
        "trusted": true
      },
      "cell_type": "code",
      "source": "print(\"Original image:\")\nimshow(side_gray, cmap='gray')\nshow()\n\n# Enter your code here",
      "execution_count": null,
      "outputs": []
    },
    {
      "metadata": {},
      "cell_type": "markdown",
      "source": "## Part B: Sampling\n\nDownsample both images to one fourth of the resolution by taking every second row and column. You can use numpy array slicing for this: *my_array[start:end:step]*. Compare the results in terms of distortions and unexpected effects. Explain why the quality of the two downsampled images differ. "
    },
    {
      "metadata": {
        "trusted": true
      },
      "cell_type": "code",
      "source": "# Enter your code here",
      "execution_count": null,
      "outputs": []
    },
    {
      "metadata": {},
      "cell_type": "markdown",
      "source": "Create three 15x15 Gaussian low pass filters with standard deviations 0.5, 1 and 1.5 and apply them to the color image wall.jpg. You can filter the three channels separately and gather them in an RGB image with the numpy function *np.stack([r_img, g_img, b_img], axis=-1)*. Downsample the three filtered images to one fourth resolution. Compare the resulting downsampled images in terms of quality."
    },
    {
      "metadata": {
        "trusted": true
      },
      "cell_type": "code",
      "source": "# Create the filters\n# Enter your code here\n\n# Convolve them with the RGB image\n# Enter your code here\n\n# Downsample the resulting images\n# Enter your code here",
      "execution_count": null,
      "outputs": []
    },
    {
      "metadata": {
        "trusted": true
      },
      "cell_type": "markdown",
      "source": "## Bonus: for those that finished earlier\n\nLoad the blurred road signs image and using your fresh knowledge about filters, design the perfect filter to make the text readable."
    },
    {
      "metadata": {
        "trusted": true
      },
      "cell_type": "code",
      "source": "blurred_road_signs = np.array(imread('blurred_road_signs.jpg', as_gray=True), dtype=np.float) / 255.\n\nfigure(figsize=(10, 10))\nimshow(blurred_road_signs, cmap='gray')\nshow()",
      "execution_count": null,
      "outputs": []
    }
  ],
  "metadata": {
    "kernelspec": {
      "name": "python36",
      "display_name": "Python 3.6",
      "language": "python"
    },
    "language_info": {
      "mimetype": "text/x-python",
      "nbconvert_exporter": "python",
      "name": "python",
      "pygments_lexer": "ipython3",
      "version": "3.6.6",
      "file_extension": ".py",
      "codemirror_mode": {
        "version": 3,
        "name": "ipython"
      }
    }
  },
  "nbformat": 4,
  "nbformat_minor": 2
}